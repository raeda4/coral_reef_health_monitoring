{
 "cells": [
  {
   "cell_type": "code",
   "execution_count": 3,
   "id": "0fe70b4f-c68b-4e54-bdb7-e7288f37910f",
   "metadata": {},
   "outputs": [],
   "source": [
    "\n",
    "ee.Authenticate()\n",
    "ee.Initialize(project='ee-raedambach')\n",
    "longitude = -149.56194 \n",
    "latitude = -17.00872"
   ]
  },
  {
   "cell_type": "code",
   "execution_count": null,
   "id": "e0cac407-2d6b-49b1-889b-5a3fa2259bc0",
   "metadata": {},
   "outputs": [],
   "source": []
  }
 ],
 "metadata": {
  "kernelspec": {
   "display_name": "Python 3 (ipykernel)",
   "language": "python",
   "name": "python3"
  },
  "language_info": {
   "codemirror_mode": {
    "name": "ipython",
    "version": 3
   },
   "file_extension": ".py",
   "mimetype": "text/x-python",
   "name": "python",
   "nbconvert_exporter": "python",
   "pygments_lexer": "ipython3",
   "version": "3.10.5"
  }
 },
 "nbformat": 4,
 "nbformat_minor": 5
}
